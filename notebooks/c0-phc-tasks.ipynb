{
 "cells": [
  {
   "cell_type": "markdown",
   "id": "24710cd5",
   "metadata": {
    "heading_collapsed": true
   },
   "source": [
    "# Cardio Catch Disease Project"
   ]
  },
  {
   "cell_type": "markdown",
   "id": "f542dac1",
   "metadata": {
    "hidden": true
   },
   "source": [
    "## Descrição do Problema"
   ]
  },
  {
   "cell_type": "markdown",
   "id": "d1bca31e",
   "metadata": {
    "hidden": true
   },
   "source": [
    "**A Empresa (ficticia)**\n",
    "- A cardio Catch Disease é uma empresa especializada em detecção de doenças cardíacas em estágios iniciais. O modelo de negócio é do tipo Serviço, ou seja, a empresa oferece o diagnostico precoce de uma doença cardiovascular por um certo preço.\n",
    "\n",
    "\n",
    "**Problema de Negócio**\n",
    "- Atualmente o diagnostico é feito manualmente por uma equipe de especialistas. A precisão atual varia entre 55% a 65%, devido a complexidade do diagnostico e também da fadiga da equipe que se reveza em turnos para minimizar os riscos. O custo de cada diagnostico, incluindo os aparelhos e a folha de pagamento dos analistas gira em torno de R$1.000,00.\n",
    "\n",
    "- O preço do diagnostico pago pelo cliente varia de acordo com a precisão conseguida pelo time de especialistas, o cliente paga R$500,00 a cada 5% de acurácia acima de 50%.\n",
    "\n",
    "\n",
    "**Objetivo**\n",
    "- Criar uma ferramenta que aumente a precisão do diagnóstico e que essa precisão seja estável para todos os diagnosticos.\n",
    "\n",
    "**Perguntas para responder**\n",
    "- Qual acurácia e precisão da ferramenta\n",
    "- Quanto lucro a empresa passará a ter com a nova ferramenta\n",
    "- Qual a confiabilidade do resultado dos dados pela nova ferramenta?"
   ]
  },
  {
   "cell_type": "markdown",
   "id": "8b87f485",
   "metadata": {
    "heading_collapsed": true
   },
   "source": [
    "# 0.0. Imports"
   ]
  },
  {
   "cell_type": "code",
   "execution_count": 1,
   "id": "45a40621",
   "metadata": {
    "ExecuteTime": {
     "end_time": "2022-11-22T20:39:43.613131Z",
     "start_time": "2022-11-22T20:39:39.379402Z"
    },
    "hidden": true
   },
   "outputs": [],
   "source": [
    "import pandas as pd\n",
    "import numpy as np\n",
    "import seaborn as sns\n",
    "import xgboost as xgb\n",
    "\n",
    "from IPython.core.display    import HTML\n",
    "from matplotlib              import pyplot        as plt\n",
    "from sklearn.model_selection import train_test_split\n",
    "from sklearn                 import neighbors     as nh\n",
    "from sklearn.metrics         import accuracy_score, f1_score, recall_score\n",
    "from sklearn                 import linear_model  as lm\n",
    "from sklearn                 import ensemble      as en\n",
    "from lightgbm                import LGBMClassifier\n",
    "from sklearn.model_selection import cross_val_score"
   ]
  },
  {
   "cell_type": "markdown",
   "id": "450923ab",
   "metadata": {
    "hidden": true
   },
   "source": [
    "## 0.1. Helper Functions"
   ]
  },
  {
   "cell_type": "code",
   "execution_count": 49,
   "id": "5fc39e2e",
   "metadata": {
    "ExecuteTime": {
     "end_time": "2022-11-22T21:00:09.662206Z",
     "start_time": "2022-11-22T21:00:09.644212Z"
    },
    "hidden": true
   },
   "outputs": [],
   "source": [
    "def jupyter_settings():\n",
    "    \n",
    "    \n",
    "    plt.style.use( 'bmh' )\n",
    "    plt.rcParams['figure.figsize'] = [25, 12]\n",
    "    plt.rcParams['font.size'] = 24\n",
    "   \n",
    "\n",
    "    display( HTML( '') )\n",
    "    pd.options.display.max_columns = None\n",
    "    pd.options.display.max_rows = None\n",
    "    pd.set_option( 'display.expand_frame_repr', False )\n",
    "    \n",
    "    \n",
    "    \n",
    "def cross_validation( model_name, model, X, y ):\n",
    "    \n",
    "    cv_score = cross_val_score( model, X, y, cv=5, scoring='accuracy')\n",
    "    cv_f1score = cross_val_score( model, X, y, cv=5, scoring='f1')\n",
    "    cv_recall = cross_val_score( model, X, y, cv=5, scoring='recall')\n",
    "\n",
    "    score_mean = round( np.mean( cv_score ), 3 )\n",
    "    score_std = round( np.std( cv_score ), 3 )\n",
    "    \n",
    "    f1_mean = round( np.mean( cv_f1score ), 3 )\n",
    "    f1_std = round( np.std( cv_f1score ), 3 )\n",
    "    \n",
    "    recall_mean = round( np.mean( cv_recall ), 3 )\n",
    "    recall_std = round( np.std( cv_recall ), 3 )\n",
    "    \n",
    "    return pd.DataFrame( { 'Accuracy Score': ' {} +/- {} '.format( score_mean, score_std ),\n",
    "                          'F1 Score': '{} +/- {}'.format( f1_mean, f1_std ),\n",
    "                         'Recall Score': '{} +/- {}'.format( recall_mean, recall_std ) }, index=[model_name] )"
   ]
  },
  {
   "cell_type": "code",
   "execution_count": 3,
   "id": "fee87f8b",
   "metadata": {
    "ExecuteTime": {
     "end_time": "2022-11-22T20:39:49.791026Z",
     "start_time": "2022-11-22T20:39:49.764034Z"
    },
    "hidden": true
   },
   "outputs": [
    {
     "data": {
      "text/html": [],
      "text/plain": [
       "<IPython.core.display.HTML object>"
      ]
     },
     "metadata": {},
     "output_type": "display_data"
    }
   ],
   "source": [
    "jupyter_settings()"
   ]
  },
  {
   "cell_type": "markdown",
   "id": "959f0b3a",
   "metadata": {
    "hidden": true
   },
   "source": [
    "## Loading Dataset"
   ]
  },
  {
   "cell_type": "code",
   "execution_count": 4,
   "id": "1f83c90a",
   "metadata": {
    "ExecuteTime": {
     "end_time": "2022-11-22T20:39:50.289941Z",
     "start_time": "2022-11-22T20:39:50.185974Z"
    },
    "hidden": true
   },
   "outputs": [],
   "source": [
    "df_raw = pd.read_csv( '../data/raw/cardio_train.csv', sep=';')"
   ]
  },
  {
   "cell_type": "code",
   "execution_count": 5,
   "id": "ef13de22",
   "metadata": {
    "ExecuteTime": {
     "end_time": "2022-11-22T20:39:50.430547Z",
     "start_time": "2022-11-22T20:39:50.403556Z"
    },
    "hidden": true
   },
   "outputs": [
    {
     "data": {
      "text/html": [
       "<div>\n",
       "<style scoped>\n",
       "    .dataframe tbody tr th:only-of-type {\n",
       "        vertical-align: middle;\n",
       "    }\n",
       "\n",
       "    .dataframe tbody tr th {\n",
       "        vertical-align: top;\n",
       "    }\n",
       "\n",
       "    .dataframe thead th {\n",
       "        text-align: right;\n",
       "    }\n",
       "</style>\n",
       "<table border=\"1\" class=\"dataframe\">\n",
       "  <thead>\n",
       "    <tr style=\"text-align: right;\">\n",
       "      <th></th>\n",
       "      <th>id</th>\n",
       "      <th>age</th>\n",
       "      <th>gender</th>\n",
       "      <th>height</th>\n",
       "      <th>weight</th>\n",
       "      <th>ap_hi</th>\n",
       "      <th>ap_lo</th>\n",
       "      <th>cholesterol</th>\n",
       "      <th>gluc</th>\n",
       "      <th>smoke</th>\n",
       "      <th>alco</th>\n",
       "      <th>active</th>\n",
       "      <th>cardio</th>\n",
       "    </tr>\n",
       "  </thead>\n",
       "  <tbody>\n",
       "    <tr>\n",
       "      <th>0</th>\n",
       "      <td>0</td>\n",
       "      <td>18393</td>\n",
       "      <td>2</td>\n",
       "      <td>168</td>\n",
       "      <td>62.0</td>\n",
       "      <td>110</td>\n",
       "      <td>80</td>\n",
       "      <td>1</td>\n",
       "      <td>1</td>\n",
       "      <td>0</td>\n",
       "      <td>0</td>\n",
       "      <td>1</td>\n",
       "      <td>0</td>\n",
       "    </tr>\n",
       "    <tr>\n",
       "      <th>1</th>\n",
       "      <td>1</td>\n",
       "      <td>20228</td>\n",
       "      <td>1</td>\n",
       "      <td>156</td>\n",
       "      <td>85.0</td>\n",
       "      <td>140</td>\n",
       "      <td>90</td>\n",
       "      <td>3</td>\n",
       "      <td>1</td>\n",
       "      <td>0</td>\n",
       "      <td>0</td>\n",
       "      <td>1</td>\n",
       "      <td>1</td>\n",
       "    </tr>\n",
       "    <tr>\n",
       "      <th>2</th>\n",
       "      <td>2</td>\n",
       "      <td>18857</td>\n",
       "      <td>1</td>\n",
       "      <td>165</td>\n",
       "      <td>64.0</td>\n",
       "      <td>130</td>\n",
       "      <td>70</td>\n",
       "      <td>3</td>\n",
       "      <td>1</td>\n",
       "      <td>0</td>\n",
       "      <td>0</td>\n",
       "      <td>0</td>\n",
       "      <td>1</td>\n",
       "    </tr>\n",
       "    <tr>\n",
       "      <th>3</th>\n",
       "      <td>3</td>\n",
       "      <td>17623</td>\n",
       "      <td>2</td>\n",
       "      <td>169</td>\n",
       "      <td>82.0</td>\n",
       "      <td>150</td>\n",
       "      <td>100</td>\n",
       "      <td>1</td>\n",
       "      <td>1</td>\n",
       "      <td>0</td>\n",
       "      <td>0</td>\n",
       "      <td>1</td>\n",
       "      <td>1</td>\n",
       "    </tr>\n",
       "    <tr>\n",
       "      <th>4</th>\n",
       "      <td>4</td>\n",
       "      <td>17474</td>\n",
       "      <td>1</td>\n",
       "      <td>156</td>\n",
       "      <td>56.0</td>\n",
       "      <td>100</td>\n",
       "      <td>60</td>\n",
       "      <td>1</td>\n",
       "      <td>1</td>\n",
       "      <td>0</td>\n",
       "      <td>0</td>\n",
       "      <td>0</td>\n",
       "      <td>0</td>\n",
       "    </tr>\n",
       "  </tbody>\n",
       "</table>\n",
       "</div>"
      ],
      "text/plain": [
       "   id    age  gender  height  weight  ap_hi  ap_lo  cholesterol  gluc  smoke  alco  active  cardio\n",
       "0   0  18393       2     168    62.0    110     80            1     1      0     0       1       0\n",
       "1   1  20228       1     156    85.0    140     90            3     1      0     0       1       1\n",
       "2   2  18857       1     165    64.0    130     70            3     1      0     0       0       1\n",
       "3   3  17623       2     169    82.0    150    100            1     1      0     0       1       1\n",
       "4   4  17474       1     156    56.0    100     60            1     1      0     0       0       0"
      ]
     },
     "execution_count": 5,
     "metadata": {},
     "output_type": "execute_result"
    }
   ],
   "source": [
    "df_raw.head()"
   ]
  },
  {
   "cell_type": "markdown",
   "id": "2a81caf7",
   "metadata": {
    "heading_collapsed": true
   },
   "source": [
    "# 1.0 Data Description"
   ]
  },
  {
   "cell_type": "code",
   "execution_count": 6,
   "id": "c018aa3e",
   "metadata": {
    "ExecuteTime": {
     "end_time": "2022-11-22T20:39:50.789346Z",
     "start_time": "2022-11-22T20:39:50.778351Z"
    },
    "hidden": true
   },
   "outputs": [],
   "source": [
    "df1 = df_raw.copy()"
   ]
  },
  {
   "cell_type": "markdown",
   "id": "7a736501",
   "metadata": {
    "hidden": true
   },
   "source": [
    "## Spliting to take a test dataset"
   ]
  },
  {
   "cell_type": "code",
   "execution_count": 7,
   "id": "11c9ce0c",
   "metadata": {
    "ExecuteTime": {
     "end_time": "2022-11-22T20:39:51.147667Z",
     "start_time": "2022-11-22T20:39:51.131672Z"
    },
    "hidden": true
   },
   "outputs": [
    {
     "data": {
      "text/plain": [
       "0    0.5003\n",
       "1    0.4997\n",
       "Name: cardio, dtype: float64"
      ]
     },
     "execution_count": 7,
     "metadata": {},
     "output_type": "execute_result"
    }
   ],
   "source": [
    "df1['cardio'].value_counts(normalize=True)"
   ]
  },
  {
   "cell_type": "code",
   "execution_count": 8,
   "id": "14d321c9",
   "metadata": {
    "ExecuteTime": {
     "end_time": "2022-11-22T20:39:51.353670Z",
     "start_time": "2022-11-22T20:39:51.314682Z"
    },
    "hidden": true
   },
   "outputs": [],
   "source": [
    "X = df1.drop( 'cardio', axis=1 )\n",
    "y = df1['cardio'].copy()\n",
    "\n",
    "x_training, x_test, y_training, y_test = train_test_split( X, y, test_size=0.1, random_state=28 )\n",
    "\n",
    "df1 = pd.concat( [x_training, y_training], axis=1 )\n",
    "df_test = pd.concat( [x_test, y_test ], axis=1 )"
   ]
  },
  {
   "cell_type": "code",
   "execution_count": 9,
   "id": "042f1a0c",
   "metadata": {
    "ExecuteTime": {
     "end_time": "2022-11-22T20:39:51.509566Z",
     "start_time": "2022-11-22T20:39:51.490573Z"
    },
    "hidden": true
   },
   "outputs": [
    {
     "data": {
      "text/plain": [
       "0    0.501143\n",
       "1    0.498857\n",
       "Name: cardio, dtype: float64"
      ]
     },
     "execution_count": 9,
     "metadata": {},
     "output_type": "execute_result"
    }
   ],
   "source": [
    "df_test['cardio'].value_counts(normalize=True)"
   ]
  },
  {
   "cell_type": "code",
   "execution_count": 10,
   "id": "46226663",
   "metadata": {
    "ExecuteTime": {
     "end_time": "2022-11-22T20:39:51.663243Z",
     "start_time": "2022-11-22T20:39:51.650248Z"
    },
    "hidden": true
   },
   "outputs": [
    {
     "data": {
      "text/plain": [
       "0    0.500206\n",
       "1    0.499794\n",
       "Name: cardio, dtype: float64"
      ]
     },
     "execution_count": 10,
     "metadata": {},
     "output_type": "execute_result"
    }
   ],
   "source": [
    "df1['cardio'].value_counts(normalize=True)"
   ]
  },
  {
   "cell_type": "markdown",
   "id": "026e7a5a",
   "metadata": {
    "hidden": true
   },
   "source": [
    "## 1.1.Column Names "
   ]
  },
  {
   "cell_type": "code",
   "execution_count": 11,
   "id": "72e1c6d2",
   "metadata": {
    "ExecuteTime": {
     "end_time": "2022-11-22T20:39:51.976677Z",
     "start_time": "2022-11-22T20:39:51.969679Z"
    },
    "hidden": true
   },
   "outputs": [
    {
     "data": {
      "text/plain": [
       "Index(['id', 'age', 'gender', 'height', 'weight', 'ap_hi', 'ap_lo',\n",
       "       'cholesterol', 'gluc', 'smoke', 'alco', 'active', 'cardio'],\n",
       "      dtype='object')"
      ]
     },
     "execution_count": 11,
     "metadata": {},
     "output_type": "execute_result"
    }
   ],
   "source": [
    "df1.columns"
   ]
  },
  {
   "cell_type": "markdown",
   "id": "d92c221a",
   "metadata": {
    "hidden": true
   },
   "source": [
    "## 1.2. Data Dimensions"
   ]
  },
  {
   "cell_type": "code",
   "execution_count": 12,
   "id": "4c542d30",
   "metadata": {
    "ExecuteTime": {
     "end_time": "2022-11-22T20:39:52.319718Z",
     "start_time": "2022-11-22T20:39:52.305723Z"
    },
    "hidden": true
   },
   "outputs": [
    {
     "name": "stdout",
     "output_type": "stream",
     "text": [
      "Number of Rows: 63000\n",
      "Number of Columns: 13\n"
     ]
    }
   ],
   "source": [
    "print('Number of Rows: {}'.format( df1.shape[0] ))\n",
    "print('Number of Columns: {}'.format( df1.shape[1] ))"
   ]
  },
  {
   "cell_type": "markdown",
   "id": "d60f3fd6",
   "metadata": {
    "hidden": true
   },
   "source": [
    "## 1.3. Data Types"
   ]
  },
  {
   "cell_type": "code",
   "execution_count": 13,
   "id": "cc7b2f66",
   "metadata": {
    "ExecuteTime": {
     "end_time": "2022-11-22T20:39:52.645665Z",
     "start_time": "2022-11-22T20:39:52.625672Z"
    },
    "hidden": true
   },
   "outputs": [
    {
     "data": {
      "text/plain": [
       "id               int64\n",
       "age              int64\n",
       "gender           int64\n",
       "height           int64\n",
       "weight         float64\n",
       "ap_hi            int64\n",
       "ap_lo            int64\n",
       "cholesterol      int64\n",
       "gluc             int64\n",
       "smoke            int64\n",
       "alco             int64\n",
       "active           int64\n",
       "cardio           int64\n",
       "dtype: object"
      ]
     },
     "execution_count": 13,
     "metadata": {},
     "output_type": "execute_result"
    }
   ],
   "source": [
    "df1.dtypes"
   ]
  },
  {
   "cell_type": "markdown",
   "id": "f4014ede",
   "metadata": {
    "hidden": true
   },
   "source": [
    "## 1.4. Check NA"
   ]
  },
  {
   "cell_type": "code",
   "execution_count": 14,
   "id": "d8ef1f36",
   "metadata": {
    "ExecuteTime": {
     "end_time": "2022-11-22T20:39:52.991015Z",
     "start_time": "2022-11-22T20:39:52.978018Z"
    },
    "hidden": true
   },
   "outputs": [
    {
     "data": {
      "text/plain": [
       "id             0\n",
       "age            0\n",
       "gender         0\n",
       "height         0\n",
       "weight         0\n",
       "ap_hi          0\n",
       "ap_lo          0\n",
       "cholesterol    0\n",
       "gluc           0\n",
       "smoke          0\n",
       "alco           0\n",
       "active         0\n",
       "cardio         0\n",
       "dtype: int64"
      ]
     },
     "execution_count": 14,
     "metadata": {},
     "output_type": "execute_result"
    }
   ],
   "source": [
    "df1.isna().sum()"
   ]
  },
  {
   "cell_type": "markdown",
   "id": "862e55dd",
   "metadata": {
    "hidden": true
   },
   "source": [
    "## 1.5. Descriptive Statistics"
   ]
  },
  {
   "cell_type": "code",
   "execution_count": 15,
   "id": "3de72198",
   "metadata": {
    "ExecuteTime": {
     "end_time": "2022-11-22T20:39:53.599973Z",
     "start_time": "2022-11-22T20:39:53.380041Z"
    },
    "hidden": true
   },
   "outputs": [
    {
     "data": {
      "text/html": [
       "<div>\n",
       "<style scoped>\n",
       "    .dataframe tbody tr th:only-of-type {\n",
       "        vertical-align: middle;\n",
       "    }\n",
       "\n",
       "    .dataframe tbody tr th {\n",
       "        vertical-align: top;\n",
       "    }\n",
       "\n",
       "    .dataframe thead th {\n",
       "        text-align: right;\n",
       "    }\n",
       "</style>\n",
       "<table border=\"1\" class=\"dataframe\">\n",
       "  <thead>\n",
       "    <tr style=\"text-align: right;\">\n",
       "      <th></th>\n",
       "      <th>attributes</th>\n",
       "      <th>min</th>\n",
       "      <th>max</th>\n",
       "      <th>range</th>\n",
       "      <th>mean</th>\n",
       "      <th>median</th>\n",
       "      <th>std</th>\n",
       "      <th>skew</th>\n",
       "      <th>kurtosis</th>\n",
       "    </tr>\n",
       "  </thead>\n",
       "  <tbody>\n",
       "    <tr>\n",
       "      <th>0</th>\n",
       "      <td>id</td>\n",
       "      <td>0.0</td>\n",
       "      <td>99999.0</td>\n",
       "      <td>99999.0</td>\n",
       "      <td>49962.531063</td>\n",
       "      <td>49938.5</td>\n",
       "      <td>28856.826649</td>\n",
       "      <td>0.000493</td>\n",
       "      <td>-1.199129</td>\n",
       "    </tr>\n",
       "    <tr>\n",
       "      <th>1</th>\n",
       "      <td>age</td>\n",
       "      <td>10798.0</td>\n",
       "      <td>23713.0</td>\n",
       "      <td>12915.0</td>\n",
       "      <td>19469.352032</td>\n",
       "      <td>19703.0</td>\n",
       "      <td>2468.012245</td>\n",
       "      <td>-0.307221</td>\n",
       "      <td>-0.823181</td>\n",
       "    </tr>\n",
       "    <tr>\n",
       "      <th>2</th>\n",
       "      <td>gender</td>\n",
       "      <td>1.0</td>\n",
       "      <td>2.0</td>\n",
       "      <td>1.0</td>\n",
       "      <td>1.350222</td>\n",
       "      <td>1.0</td>\n",
       "      <td>0.477039</td>\n",
       "      <td>0.627962</td>\n",
       "      <td>-1.605715</td>\n",
       "    </tr>\n",
       "    <tr>\n",
       "      <th>3</th>\n",
       "      <td>height</td>\n",
       "      <td>55.0</td>\n",
       "      <td>250.0</td>\n",
       "      <td>195.0</td>\n",
       "      <td>164.372841</td>\n",
       "      <td>165.0</td>\n",
       "      <td>8.219944</td>\n",
       "      <td>-0.697752</td>\n",
       "      <td>8.629868</td>\n",
       "    </tr>\n",
       "    <tr>\n",
       "      <th>4</th>\n",
       "      <td>weight</td>\n",
       "      <td>10.0</td>\n",
       "      <td>200.0</td>\n",
       "      <td>190.0</td>\n",
       "      <td>74.187552</td>\n",
       "      <td>72.0</td>\n",
       "      <td>14.384827</td>\n",
       "      <td>1.017653</td>\n",
       "      <td>2.639800</td>\n",
       "    </tr>\n",
       "    <tr>\n",
       "      <th>5</th>\n",
       "      <td>ap_hi</td>\n",
       "      <td>-140.0</td>\n",
       "      <td>16020.0</td>\n",
       "      <td>16160.0</td>\n",
       "      <td>128.778683</td>\n",
       "      <td>120.0</td>\n",
       "      <td>152.352806</td>\n",
       "      <td>85.856894</td>\n",
       "      <td>7698.285470</td>\n",
       "    </tr>\n",
       "    <tr>\n",
       "      <th>6</th>\n",
       "      <td>ap_lo</td>\n",
       "      <td>-70.0</td>\n",
       "      <td>11000.0</td>\n",
       "      <td>11070.0</td>\n",
       "      <td>96.719048</td>\n",
       "      <td>80.0</td>\n",
       "      <td>188.535871</td>\n",
       "      <td>31.770352</td>\n",
       "      <td>1398.122439</td>\n",
       "    </tr>\n",
       "    <tr>\n",
       "      <th>7</th>\n",
       "      <td>cholesterol</td>\n",
       "      <td>1.0</td>\n",
       "      <td>3.0</td>\n",
       "      <td>2.0</td>\n",
       "      <td>1.367857</td>\n",
       "      <td>1.0</td>\n",
       "      <td>0.680265</td>\n",
       "      <td>1.582175</td>\n",
       "      <td>0.981197</td>\n",
       "    </tr>\n",
       "    <tr>\n",
       "      <th>8</th>\n",
       "      <td>gluc</td>\n",
       "      <td>1.0</td>\n",
       "      <td>3.0</td>\n",
       "      <td>2.0</td>\n",
       "      <td>1.225952</td>\n",
       "      <td>1.0</td>\n",
       "      <td>0.571583</td>\n",
       "      <td>2.401165</td>\n",
       "      <td>4.314433</td>\n",
       "    </tr>\n",
       "    <tr>\n",
       "      <th>9</th>\n",
       "      <td>smoke</td>\n",
       "      <td>0.0</td>\n",
       "      <td>1.0</td>\n",
       "      <td>1.0</td>\n",
       "      <td>0.087762</td>\n",
       "      <td>0.0</td>\n",
       "      <td>0.282948</td>\n",
       "      <td>2.913945</td>\n",
       "      <td>6.491281</td>\n",
       "    </tr>\n",
       "    <tr>\n",
       "      <th>10</th>\n",
       "      <td>alco</td>\n",
       "      <td>0.0</td>\n",
       "      <td>1.0</td>\n",
       "      <td>1.0</td>\n",
       "      <td>0.053794</td>\n",
       "      <td>0.0</td>\n",
       "      <td>0.225610</td>\n",
       "      <td>3.955648</td>\n",
       "      <td>13.647585</td>\n",
       "    </tr>\n",
       "    <tr>\n",
       "      <th>11</th>\n",
       "      <td>active</td>\n",
       "      <td>0.0</td>\n",
       "      <td>1.0</td>\n",
       "      <td>1.0</td>\n",
       "      <td>0.803397</td>\n",
       "      <td>1.0</td>\n",
       "      <td>0.397430</td>\n",
       "      <td>-1.526831</td>\n",
       "      <td>0.331224</td>\n",
       "    </tr>\n",
       "    <tr>\n",
       "      <th>12</th>\n",
       "      <td>cardio</td>\n",
       "      <td>0.0</td>\n",
       "      <td>1.0</td>\n",
       "      <td>1.0</td>\n",
       "      <td>0.499794</td>\n",
       "      <td>0.0</td>\n",
       "      <td>0.500000</td>\n",
       "      <td>0.000825</td>\n",
       "      <td>-2.000063</td>\n",
       "    </tr>\n",
       "  </tbody>\n",
       "</table>\n",
       "</div>"
      ],
      "text/plain": [
       "     attributes      min      max    range          mean   median           std       skew     kurtosis\n",
       "0            id      0.0  99999.0  99999.0  49962.531063  49938.5  28856.826649   0.000493    -1.199129\n",
       "1           age  10798.0  23713.0  12915.0  19469.352032  19703.0   2468.012245  -0.307221    -0.823181\n",
       "2        gender      1.0      2.0      1.0      1.350222      1.0      0.477039   0.627962    -1.605715\n",
       "3        height     55.0    250.0    195.0    164.372841    165.0      8.219944  -0.697752     8.629868\n",
       "4        weight     10.0    200.0    190.0     74.187552     72.0     14.384827   1.017653     2.639800\n",
       "5         ap_hi   -140.0  16020.0  16160.0    128.778683    120.0    152.352806  85.856894  7698.285470\n",
       "6         ap_lo    -70.0  11000.0  11070.0     96.719048     80.0    188.535871  31.770352  1398.122439\n",
       "7   cholesterol      1.0      3.0      2.0      1.367857      1.0      0.680265   1.582175     0.981197\n",
       "8          gluc      1.0      3.0      2.0      1.225952      1.0      0.571583   2.401165     4.314433\n",
       "9         smoke      0.0      1.0      1.0      0.087762      0.0      0.282948   2.913945     6.491281\n",
       "10         alco      0.0      1.0      1.0      0.053794      0.0      0.225610   3.955648    13.647585\n",
       "11       active      0.0      1.0      1.0      0.803397      1.0      0.397430  -1.526831     0.331224\n",
       "12       cardio      0.0      1.0      1.0      0.499794      0.0      0.500000   0.000825    -2.000063"
      ]
     },
     "execution_count": 15,
     "metadata": {},
     "output_type": "execute_result"
    }
   ],
   "source": [
    "# Estatistica Descritiva\n",
    "# Central Tendency - mean, median\n",
    "ct1 = pd.DataFrame( df1.apply( np.mean ) ).T\n",
    "ct2 = pd.DataFrame( df1.apply( np.median ) ).T\n",
    "\n",
    "# Dispersion - std, min, max, range, skew, kurtosis\n",
    "d1 = pd.DataFrame( df1.apply( np.std ) ).T\n",
    "d2 = pd.DataFrame( df1.apply( min ) ).T\n",
    "d3 = pd.DataFrame( df1.apply( max ) ).T\n",
    "d4 = pd.DataFrame( df1.apply( lambda x: x.max() - x.min() ) ).T\n",
    "d5 = pd.DataFrame( df1.apply( lambda x: x.skew() ) ).T\n",
    "d6 = pd.DataFrame( df1.apply( lambda x: x.kurtosis() ) ).T\n",
    "\n",
    "# Concat\n",
    "m = pd.concat( [d2, d3, d4, ct1, ct2, d1, d5, d6] ).T.reset_index()\n",
    "m.columns = ['attributes', 'min', 'max', 'range', 'mean', 'median', 'std', 'skew', 'kurtosis']\n",
    "m"
   ]
  },
  {
   "cell_type": "markdown",
   "id": "84e60a2b",
   "metadata": {
    "heading_collapsed": true
   },
   "source": [
    "# 2.0. Feature Engineering"
   ]
  },
  {
   "cell_type": "code",
   "execution_count": 16,
   "id": "1b2296a2",
   "metadata": {
    "ExecuteTime": {
     "end_time": "2022-11-22T20:39:53.769510Z",
     "start_time": "2022-11-22T20:39:53.746518Z"
    },
    "hidden": true
   },
   "outputs": [],
   "source": [
    "df2 = df1.copy()"
   ]
  },
  {
   "cell_type": "code",
   "execution_count": 17,
   "id": "55d5db16",
   "metadata": {
    "ExecuteTime": {
     "end_time": "2022-11-22T20:39:53.941039Z",
     "start_time": "2022-11-22T20:39:53.931041Z"
    },
    "hidden": true
   },
   "outputs": [],
   "source": [
    "# Convertendo a coluna Age de dias para anos\n",
    "df2['age'] = round(df2['age'] / 365)\n",
    "df2['age'] = df2['age'].astype(np.int64)"
   ]
  },
  {
   "cell_type": "markdown",
   "id": "620366cc",
   "metadata": {
    "heading_collapsed": true
   },
   "source": [
    "# 3.0. Filtragem de linhas e colunas"
   ]
  },
  {
   "cell_type": "code",
   "execution_count": 18,
   "id": "65a976d4",
   "metadata": {
    "ExecuteTime": {
     "end_time": "2022-11-22T20:39:54.359640Z",
     "start_time": "2022-11-22T20:39:54.345645Z"
    },
    "hidden": true
   },
   "outputs": [],
   "source": [
    "df3 = df2.copy()"
   ]
  },
  {
   "cell_type": "markdown",
   "id": "39790e8e",
   "metadata": {
    "hidden": true
   },
   "source": [
    "## Filtragem de linhas"
   ]
  },
  {
   "cell_type": "code",
   "execution_count": 19,
   "id": "58b7afcb",
   "metadata": {
    "ExecuteTime": {
     "end_time": "2022-11-22T20:39:54.760098Z",
     "start_time": "2022-11-22T20:39:54.746102Z"
    },
    "hidden": true
   },
   "outputs": [],
   "source": [
    "df3 = df3.loc[ (df3['ap_hi'] > 0) & ( df3['ap_lo'] > 0 ), : ]"
   ]
  },
  {
   "cell_type": "markdown",
   "id": "6e14e4d9",
   "metadata": {
    "hidden": true
   },
   "source": [
    "## Filtragem das colunas"
   ]
  },
  {
   "cell_type": "code",
   "execution_count": null,
   "id": "14ca8810",
   "metadata": {
    "hidden": true
   },
   "outputs": [],
   "source": []
  },
  {
   "cell_type": "markdown",
   "id": "21739800",
   "metadata": {
    "heading_collapsed": true
   },
   "source": [
    "# 4.0. Exploratory Data Analysis"
   ]
  },
  {
   "cell_type": "code",
   "execution_count": 20,
   "id": "66952e7d",
   "metadata": {
    "ExecuteTime": {
     "end_time": "2022-11-22T20:39:56.176051Z",
     "start_time": "2022-11-22T20:39:56.163054Z"
    },
    "hidden": true
   },
   "outputs": [],
   "source": [
    "df4 = df3.copy()"
   ]
  },
  {
   "cell_type": "markdown",
   "id": "016c9223",
   "metadata": {
    "heading_collapsed": true
   },
   "source": [
    "# 5.0. Data Preparation"
   ]
  },
  {
   "cell_type": "code",
   "execution_count": 21,
   "id": "5a7ba84e",
   "metadata": {
    "ExecuteTime": {
     "end_time": "2022-11-22T20:39:57.458283Z",
     "start_time": "2022-11-22T20:39:57.444304Z"
    },
    "hidden": true
   },
   "outputs": [],
   "source": [
    "df5 = df4.copy()"
   ]
  },
  {
   "cell_type": "code",
   "execution_count": 22,
   "id": "f8e74fc0",
   "metadata": {
    "ExecuteTime": {
     "end_time": "2022-11-22T20:39:57.753082Z",
     "start_time": "2022-11-22T20:39:57.731083Z"
    },
    "hidden": true
   },
   "outputs": [],
   "source": [
    "X = df3.drop('cardio', axis=1)\n",
    "y = df3['cardio'].copy()\n",
    "\n",
    "x_train, x_validation, y_train, y_validation = train_test_split( X, y, test_size=0.20, random_state=28 )"
   ]
  },
  {
   "cell_type": "markdown",
   "id": "5b797f06",
   "metadata": {
    "heading_collapsed": true
   },
   "source": [
    "# 6.0. Feature Selection"
   ]
  },
  {
   "cell_type": "code",
   "execution_count": 23,
   "id": "43e4ccb1",
   "metadata": {
    "ExecuteTime": {
     "end_time": "2022-11-22T20:39:58.362345Z",
     "start_time": "2022-11-22T20:39:58.346351Z"
    },
    "hidden": true
   },
   "outputs": [],
   "source": [
    "df6 = df5.copy()"
   ]
  },
  {
   "cell_type": "markdown",
   "id": "501c0d97",
   "metadata": {
    "heading_collapsed": true
   },
   "source": [
    "# 7.0. Model Selection"
   ]
  },
  {
   "cell_type": "code",
   "execution_count": 24,
   "id": "6f781239",
   "metadata": {
    "ExecuteTime": {
     "end_time": "2022-11-22T20:40:00.724345Z",
     "start_time": "2022-11-22T20:40:00.707352Z"
    },
    "hidden": true
   },
   "outputs": [],
   "source": [
    "df7 = df6.copy()"
   ]
  },
  {
   "cell_type": "markdown",
   "id": "43d81803",
   "metadata": {
    "hidden": true
   },
   "source": [
    "## 7.1. KNN Model"
   ]
  },
  {
   "cell_type": "code",
   "execution_count": 25,
   "id": "352cf52b",
   "metadata": {
    "ExecuteTime": {
     "end_time": "2022-11-22T20:41:32.071306Z",
     "start_time": "2022-11-22T20:41:31.108352Z"
    },
    "hidden": true
   },
   "outputs": [
    {
     "name": "stdout",
     "output_type": "stream",
     "text": [
      "0.5705440900562851\n",
      "0.63652242953553\n",
      "0.47664576802507835\n"
     ]
    }
   ],
   "source": [
    "# Model Definition\n",
    "knn_model = nh.KNeighborsClassifier( n_neighbors=8 )\n",
    "\n",
    "# Model Training\n",
    "knn_model.fit( x_train, y_train )\n",
    "\n",
    "# Model Prediction\n",
    "yhat_knn = knn_model.predict( x_validation )\n",
    "\n",
    "# Metrics\n",
    "knn_f1score = f1_score(y_validation, yhat_knn)\n",
    "knn_accuracy = accuracy_score( y_validation, yhat_knn)\n",
    "knn_recall = recall_score( y_validation, yhat_knn, average='binary'  )\n",
    "\n",
    "print(knn_f1score)\n",
    "print(knn_accuracy)\n",
    "print( knn_recall )"
   ]
  },
  {
   "cell_type": "markdown",
   "id": "c66874d9",
   "metadata": {
    "hidden": true
   },
   "source": [
    "### KNN Cross Validation"
   ]
  },
  {
   "cell_type": "code",
   "execution_count": 50,
   "id": "e0b0338a",
   "metadata": {
    "ExecuteTime": {
     "end_time": "2022-11-22T21:00:35.633723Z",
     "start_time": "2022-11-22T21:00:20.771718Z"
    },
    "hidden": true
   },
   "outputs": [],
   "source": [
    "knn_cv = cross_validation( ' KNN CV', knn_model, X, y )"
   ]
  },
  {
   "cell_type": "markdown",
   "id": "8ae36d9a",
   "metadata": {
    "hidden": true
   },
   "source": [
    "## 7.2. Logistic Regression"
   ]
  },
  {
   "cell_type": "code",
   "execution_count": 26,
   "id": "07c8a069",
   "metadata": {
    "ExecuteTime": {
     "end_time": "2022-11-22T20:42:05.063238Z",
     "start_time": "2022-11-22T20:42:04.707353Z"
    },
    "hidden": true
   },
   "outputs": [
    {
     "name": "stdout",
     "output_type": "stream",
     "text": [
      "0.6909031090639909\n",
      "0.7016276300119095\n",
      "0.658307210031348\n"
     ]
    }
   ],
   "source": [
    "# Model Definition\n",
    "lr_model = lm.LogisticRegression( random_state=28 )\n",
    "\n",
    "# Model Training\n",
    "lr_model.fit( x_train, y_train )\n",
    "\n",
    "# Model Prediction\n",
    "yhat_lr = lr_model.predict( x_validation )\n",
    "\n",
    "lr_f1score = f1_score(y_validation, yhat_lr)\n",
    "lr_accuracy = accuracy_score( y_validation, yhat_lr)\n",
    "lr_recall = recall_score( y_validation, yhat_lr, average='binary'  )\n",
    "\n",
    "\n",
    "print(lr_f1score)\n",
    "print(lr_accuracy)\n",
    "print( lr_recall )"
   ]
  },
  {
   "cell_type": "markdown",
   "id": "0aaa2cc7",
   "metadata": {
    "hidden": true
   },
   "source": [
    "### LR Cross Validation"
   ]
  },
  {
   "cell_type": "code",
   "execution_count": 51,
   "id": "63badb06",
   "metadata": {
    "ExecuteTime": {
     "end_time": "2022-11-22T21:00:40.695465Z",
     "start_time": "2022-11-22T21:00:35.636722Z"
    },
    "hidden": true
   },
   "outputs": [
    {
     "name": "stderr",
     "output_type": "stream",
     "text": [
      "C:\\Users\\Pedro\\repos\\cardio_diseases\\cardio_env\\lib\\site-packages\\sklearn\\linear_model\\_logistic.py:444: ConvergenceWarning: lbfgs failed to converge (status=1):\n",
      "STOP: TOTAL NO. of ITERATIONS REACHED LIMIT.\n",
      "\n",
      "Increase the number of iterations (max_iter) or scale the data as shown in:\n",
      "    https://scikit-learn.org/stable/modules/preprocessing.html\n",
      "Please also refer to the documentation for alternative solver options:\n",
      "    https://scikit-learn.org/stable/modules/linear_model.html#logistic-regression\n",
      "  n_iter_i = _check_optimize_result(\n",
      "C:\\Users\\Pedro\\repos\\cardio_diseases\\cardio_env\\lib\\site-packages\\sklearn\\linear_model\\_logistic.py:444: ConvergenceWarning: lbfgs failed to converge (status=1):\n",
      "STOP: TOTAL NO. of ITERATIONS REACHED LIMIT.\n",
      "\n",
      "Increase the number of iterations (max_iter) or scale the data as shown in:\n",
      "    https://scikit-learn.org/stable/modules/preprocessing.html\n",
      "Please also refer to the documentation for alternative solver options:\n",
      "    https://scikit-learn.org/stable/modules/linear_model.html#logistic-regression\n",
      "  n_iter_i = _check_optimize_result(\n",
      "C:\\Users\\Pedro\\repos\\cardio_diseases\\cardio_env\\lib\\site-packages\\sklearn\\linear_model\\_logistic.py:444: ConvergenceWarning: lbfgs failed to converge (status=1):\n",
      "STOP: TOTAL NO. of ITERATIONS REACHED LIMIT.\n",
      "\n",
      "Increase the number of iterations (max_iter) or scale the data as shown in:\n",
      "    https://scikit-learn.org/stable/modules/preprocessing.html\n",
      "Please also refer to the documentation for alternative solver options:\n",
      "    https://scikit-learn.org/stable/modules/linear_model.html#logistic-regression\n",
      "  n_iter_i = _check_optimize_result(\n"
     ]
    }
   ],
   "source": [
    "lr_cv = cross_validation( 'Logistic Regression CV', lr_model, X, y )"
   ]
  },
  {
   "cell_type": "markdown",
   "id": "565cbb1d",
   "metadata": {
    "hidden": true
   },
   "source": [
    "## 7.3. Extra Trees"
   ]
  },
  {
   "cell_type": "code",
   "execution_count": 27,
   "id": "075c7a28",
   "metadata": {
    "ExecuteTime": {
     "end_time": "2022-11-22T20:42:54.725756Z",
     "start_time": "2022-11-22T20:42:41.532635Z"
    },
    "hidden": true
   },
   "outputs": [
    {
     "name": "stdout",
     "output_type": "stream",
     "text": [
      "0.7115430196729083\n",
      "0.7101230647082175\n",
      "0.7057993730407524\n"
     ]
    }
   ],
   "source": [
    "# Model Definition\n",
    "et_model = en.ExtraTreesClassifier( n_estimators=1000, n_jobs=-1, random_state=42 )\n",
    "\n",
    "# Model Training\n",
    "et_model.fit( x_train, y_train )\n",
    "\n",
    "# Model Prediction \n",
    "yhat_et = et_model.predict( x_validation )\n",
    "\n",
    "et_f1score = f1_score(y_validation, yhat_et)\n",
    "et_accuracy = accuracy_score( y_validation, yhat_et)\n",
    "et_recall = recall_score( y_validation, yhat_et, average='binary'  )\n",
    "\n",
    "\n",
    "print(et_f1score)\n",
    "print(et_accuracy)\n",
    "print(et_recall)"
   ]
  },
  {
   "cell_type": "markdown",
   "id": "5ed5a140",
   "metadata": {
    "hidden": true
   },
   "source": [
    "### Extra Tress Cross Validation"
   ]
  },
  {
   "cell_type": "code",
   "execution_count": 57,
   "id": "90ce2723",
   "metadata": {
    "ExecuteTime": {
     "end_time": "2022-11-22T21:16:26.807235Z",
     "start_time": "2022-11-22T21:11:16.724617Z"
    },
    "hidden": true
   },
   "outputs": [],
   "source": [
    "et_cv = cross_validation( 'Extra Trees CV', et_model, X, y )"
   ]
  },
  {
   "cell_type": "markdown",
   "id": "fcde3195",
   "metadata": {
    "hidden": true
   },
   "source": [
    "## 7.4. Random Forest"
   ]
  },
  {
   "cell_type": "code",
   "execution_count": 33,
   "id": "0e81bd4d",
   "metadata": {
    "ExecuteTime": {
     "end_time": "2022-11-22T20:45:19.852920Z",
     "start_time": "2022-11-22T20:45:06.915357Z"
    },
    "hidden": true
   },
   "outputs": [
    {
     "name": "stdout",
     "output_type": "stream",
     "text": [
      "0.718039373242266\n",
      "0.7213973799126637\n",
      "0.7003134796238244\n"
     ]
    }
   ],
   "source": [
    "# model definition\n",
    "rf_model = en.RandomForestClassifier( n_estimators=1000, n_jobs=-1, random_state=42 ) \n",
    "\n",
    "# model training\n",
    "rf_model.fit( x_train, y_train )\n",
    "\n",
    "# model prediction\n",
    "yhat_rf = rf_model.predict( x_validation )\n",
    "\n",
    "rf_f1score = f1_score(y_validation, yhat_rf)\n",
    "rf_accuracy = accuracy_score( y_validation, yhat_rf)\n",
    "rf_recall = recall_score( y_validation, yhat_rf, average='binary' ) \n",
    "\n",
    "print(rf_f1score)\n",
    "print(rf_accuracy)\n",
    "print( rf_recall )"
   ]
  },
  {
   "cell_type": "markdown",
   "id": "1682df50",
   "metadata": {
    "hidden": true
   },
   "source": [
    "### Random Forest Cross Validation"
   ]
  },
  {
   "cell_type": "code",
   "execution_count": 54,
   "id": "ab7bf7c9",
   "metadata": {
    "ExecuteTime": {
     "end_time": "2022-11-22T21:08:55.875557Z",
     "start_time": "2022-11-22T21:05:05.138650Z"
    },
    "hidden": true
   },
   "outputs": [],
   "source": [
    "rf_cv = cross_validation( 'Random Forest CV', rf_model, X, y )"
   ]
  },
  {
   "cell_type": "markdown",
   "id": "b122894c",
   "metadata": {
    "hidden": true
   },
   "source": [
    "## 7.5. Light Gradient Boosting Machine"
   ]
  },
  {
   "cell_type": "code",
   "execution_count": 34,
   "id": "e65d0fb5",
   "metadata": {
    "ExecuteTime": {
     "end_time": "2022-11-22T20:45:28.806150Z",
     "start_time": "2022-11-22T20:45:28.427270Z"
    },
    "hidden": true
   },
   "outputs": [
    {
     "name": "stdout",
     "output_type": "stream",
     "text": [
      "0.726792203501817\n",
      "0.7373560936879714\n",
      "0.6896551724137931\n"
     ]
    }
   ],
   "source": [
    "lgbm_model = LGBMClassifier()\n",
    "\n",
    "lgbm_model.fit(x_train, y_train)\n",
    "\n",
    "yhat_lgbm = lgbm_model.predict( x_validation )\n",
    "\n",
    "\n",
    "lgbm_f1score = f1_score(y_validation, yhat_lgbm)\n",
    "lgbm_accuracy = accuracy_score( y_validation, yhat_lgbm)\n",
    "lgbm_recall = recall_score( y_validation, yhat_lgbm, average='binary' ) \n",
    "\n",
    "print(lgbm_f1score)\n",
    "print(lgbm_accuracy)\n",
    "print(lgbm_recall)"
   ]
  },
  {
   "cell_type": "markdown",
   "id": "1b131f60",
   "metadata": {
    "hidden": true
   },
   "source": [
    "### LGBM Cross Validation"
   ]
  },
  {
   "cell_type": "code",
   "execution_count": 55,
   "id": "f0f508fe",
   "metadata": {
    "ExecuteTime": {
     "end_time": "2022-11-22T21:09:01.901629Z",
     "start_time": "2022-11-22T21:08:55.877556Z"
    },
    "hidden": true
   },
   "outputs": [],
   "source": [
    "lgbm_cv = cross_validation( 'LGBM CV', lgbm_model, X, y )"
   ]
  },
  {
   "cell_type": "markdown",
   "id": "f84e0789",
   "metadata": {
    "hidden": true
   },
   "source": [
    "## Results"
   ]
  },
  {
   "cell_type": "code",
   "execution_count": 35,
   "id": "d5f2fabc",
   "metadata": {
    "ExecuteTime": {
     "end_time": "2022-11-22T20:46:37.367349Z",
     "start_time": "2022-11-22T20:46:37.346358Z"
    },
    "hidden": true
   },
   "outputs": [],
   "source": [
    "results = {'Metric':['F1 Score', 'Accuracy Score', 'Recall Score'], 'KNN': [knn_f1score, knn_accuracy, knn_recall], \n",
    "           'Logistic Regression': [lr_f1score, lr_accuracy, lr_recall], 'Extra Trees': [et_f1score, et_accuracy, et_recall], \n",
    "           'Random Forest': [rf_f1score, rf_accuracy, rf_recall], 'LGBM': [lgbm_f1score, lgbm_accuracy, lgbm_recall]}\n",
    "df_results = pd.DataFrame( data=results).T"
   ]
  },
  {
   "cell_type": "code",
   "execution_count": 36,
   "id": "7fb3a26f",
   "metadata": {
    "ExecuteTime": {
     "end_time": "2022-11-22T20:46:38.504458Z",
     "start_time": "2022-11-22T20:46:38.483465Z"
    },
    "hidden": true
   },
   "outputs": [
    {
     "data": {
      "text/html": [
       "<div>\n",
       "<style scoped>\n",
       "    .dataframe tbody tr th:only-of-type {\n",
       "        vertical-align: middle;\n",
       "    }\n",
       "\n",
       "    .dataframe tbody tr th {\n",
       "        vertical-align: top;\n",
       "    }\n",
       "\n",
       "    .dataframe thead th {\n",
       "        text-align: right;\n",
       "    }\n",
       "</style>\n",
       "<table border=\"1\" class=\"dataframe\">\n",
       "  <thead>\n",
       "    <tr style=\"text-align: right;\">\n",
       "      <th>Metric</th>\n",
       "      <th>F1 Score</th>\n",
       "      <th>Accuracy Score</th>\n",
       "      <th>Recall Score</th>\n",
       "    </tr>\n",
       "  </thead>\n",
       "  <tbody>\n",
       "    <tr>\n",
       "      <th>KNN</th>\n",
       "      <td>0.570544</td>\n",
       "      <td>0.636522</td>\n",
       "      <td>0.476646</td>\n",
       "    </tr>\n",
       "    <tr>\n",
       "      <th>Logistic Regression</th>\n",
       "      <td>0.690903</td>\n",
       "      <td>0.701628</td>\n",
       "      <td>0.658307</td>\n",
       "    </tr>\n",
       "    <tr>\n",
       "      <th>Extra Trees</th>\n",
       "      <td>0.711543</td>\n",
       "      <td>0.710123</td>\n",
       "      <td>0.705799</td>\n",
       "    </tr>\n",
       "    <tr>\n",
       "      <th>Random Forest</th>\n",
       "      <td>0.718039</td>\n",
       "      <td>0.721397</td>\n",
       "      <td>0.700313</td>\n",
       "    </tr>\n",
       "    <tr>\n",
       "      <th>LGBM</th>\n",
       "      <td>0.726792</td>\n",
       "      <td>0.737356</td>\n",
       "      <td>0.689655</td>\n",
       "    </tr>\n",
       "  </tbody>\n",
       "</table>\n",
       "</div>"
      ],
      "text/plain": [
       "Metric               F1 Score Accuracy Score Recall Score\n",
       "KNN                  0.570544       0.636522     0.476646\n",
       "Logistic Regression  0.690903       0.701628     0.658307\n",
       "Extra Trees          0.711543       0.710123     0.705799\n",
       "Random Forest        0.718039       0.721397     0.700313\n",
       "LGBM                 0.726792       0.737356     0.689655"
      ]
     },
     "execution_count": 36,
     "metadata": {},
     "output_type": "execute_result"
    }
   ],
   "source": [
    "df_results.columns = df_results.iloc[0]\n",
    "df_results =df_results[1:]\n",
    "df_results"
   ]
  },
  {
   "cell_type": "markdown",
   "id": "435322c4",
   "metadata": {
    "hidden": true
   },
   "source": [
    "## Cross Validation Results"
   ]
  },
  {
   "cell_type": "code",
   "execution_count": 56,
   "id": "14bb8e25",
   "metadata": {
    "ExecuteTime": {
     "end_time": "2022-11-22T21:10:17.000612Z",
     "start_time": "2022-11-22T21:10:16.987616Z"
    },
    "hidden": true
   },
   "outputs": [
    {
     "data": {
      "text/html": [
       "<div>\n",
       "<style scoped>\n",
       "    .dataframe tbody tr th:only-of-type {\n",
       "        vertical-align: middle;\n",
       "    }\n",
       "\n",
       "    .dataframe tbody tr th {\n",
       "        vertical-align: top;\n",
       "    }\n",
       "\n",
       "    .dataframe thead th {\n",
       "        text-align: right;\n",
       "    }\n",
       "</style>\n",
       "<table border=\"1\" class=\"dataframe\">\n",
       "  <thead>\n",
       "    <tr style=\"text-align: right;\">\n",
       "      <th></th>\n",
       "      <th>Accuracy Score</th>\n",
       "      <th>F1 Score</th>\n",
       "      <th>Recall Score</th>\n",
       "    </tr>\n",
       "  </thead>\n",
       "  <tbody>\n",
       "    <tr>\n",
       "      <th>KNN CV</th>\n",
       "      <td>0.637 +/- 0.004</td>\n",
       "      <td>0.57 +/- 0.005</td>\n",
       "      <td>0.482 +/- 0.005</td>\n",
       "    </tr>\n",
       "    <tr>\n",
       "      <th>Logistic Regression CV</th>\n",
       "      <td>0.702 +/- 0.004</td>\n",
       "      <td>0.687 +/- 0.006</td>\n",
       "      <td>0.656 +/- 0.013</td>\n",
       "    </tr>\n",
       "    <tr>\n",
       "      <th>Extra Trees CV</th>\n",
       "      <td>0.722 +/- 0.003</td>\n",
       "      <td>0.716 +/- 0.004</td>\n",
       "      <td>0.702 +/- 0.005</td>\n",
       "    </tr>\n",
       "    <tr>\n",
       "      <th>Random Forest CV</th>\n",
       "      <td>0.722 +/- 0.003</td>\n",
       "      <td>0.716 +/- 0.004</td>\n",
       "      <td>0.702 +/- 0.005</td>\n",
       "    </tr>\n",
       "    <tr>\n",
       "      <th>LGBM CV</th>\n",
       "      <td>0.734 +/- 0.004</td>\n",
       "      <td>0.722 +/- 0.004</td>\n",
       "      <td>0.691 +/- 0.005</td>\n",
       "    </tr>\n",
       "  </tbody>\n",
       "</table>\n",
       "</div>"
      ],
      "text/plain": [
       "                           Accuracy Score         F1 Score     Recall Score\n",
       " KNN CV                  0.637 +/- 0.004    0.57 +/- 0.005  0.482 +/- 0.005\n",
       "Logistic Regression CV   0.702 +/- 0.004   0.687 +/- 0.006  0.656 +/- 0.013\n",
       "Extra Trees CV           0.722 +/- 0.003   0.716 +/- 0.004  0.702 +/- 0.005\n",
       "Random Forest CV         0.722 +/- 0.003   0.716 +/- 0.004  0.702 +/- 0.005\n",
       "LGBM CV                  0.734 +/- 0.004   0.722 +/- 0.004  0.691 +/- 0.005"
      ]
     },
     "execution_count": 56,
     "metadata": {},
     "output_type": "execute_result"
    }
   ],
   "source": [
    "results_cv = pd.concat( [knn_cv, lr_cv, et_cv, rf_cv, lgbm_cv] )\n",
    "results_cv"
   ]
  },
  {
   "cell_type": "markdown",
   "id": "1e807cfb",
   "metadata": {},
   "source": [
    "# 8.0. Hyper-parameter Fine Tuning"
   ]
  },
  {
   "cell_type": "markdown",
   "id": "40034178",
   "metadata": {},
   "source": [
    "# 9.0. Testing Model"
   ]
  },
  {
   "cell_type": "markdown",
   "id": "6fd8c616",
   "metadata": {},
   "source": [
    "# 10.0. Business Performance"
   ]
  }
 ],
 "metadata": {
  "kernelspec": {
   "display_name": "Python 3 (ipykernel)",
   "language": "python",
   "name": "python3"
  },
  "language_info": {
   "codemirror_mode": {
    "name": "ipython",
    "version": 3
   },
   "file_extension": ".py",
   "mimetype": "text/x-python",
   "name": "python",
   "nbconvert_exporter": "python",
   "pygments_lexer": "ipython3",
   "version": "3.9.13"
  }
 },
 "nbformat": 4,
 "nbformat_minor": 5
}
